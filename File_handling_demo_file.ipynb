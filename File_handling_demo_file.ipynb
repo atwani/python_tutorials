{
 "cells": [
  {
   "cell_type": "code",
   "execution_count": 25,
   "id": "fb6ed08e",
   "metadata": {},
   "outputs": [],
   "source": [
    "# Opening  a file in write mode to create it\n",
    "file_handle=open(\"example.txt\", \"w\")"
   ]
  },
  {
   "cell_type": "code",
   "execution_count": 26,
   "id": "13939d92",
   "metadata": {},
   "outputs": [],
   "source": [
    "#writing to a file using the write method\n",
    "file_handle.write(\"Country Name \\t Capital city \\n Kenya \\t Nairobi \\n Uganda \\t Kampala\\n Tanzania \\t dar es salaam\\n Zambia \\t lusaka\\n\")\n",
    "file_handle.close()"
   ]
  },
  {
   "cell_type": "code",
   "execution_count": 27,
   "id": "c2f172b3",
   "metadata": {},
   "outputs": [
    {
     "name": "stdout",
     "output_type": "stream",
     "text": [
      "Country Name \t Capital city \n",
      " Kenya \t Nairobi \n",
      " Uganda \t Kampala\n",
      " Tanzania \t dar es salaam\n",
      " Zambia \t lusaka\n",
      "\n"
     ]
    }
   ],
   "source": [
    "#Reading the all the content in the file\n",
    "file_read=open(\"Example.txt\")\n",
    "content=file_read.read()\n",
    "print(content)\n",
    "file_read.close()"
   ]
  },
  {
   "cell_type": "code",
   "execution_count": 28,
   "id": "dc2d8500",
   "metadata": {},
   "outputs": [
    {
     "name": "stdout",
     "output_type": "stream",
     "text": [
      "Country Name \t Capital city \n",
      "\n"
     ]
    }
   ],
   "source": [
    "#read only the first line\n",
    "file_read=open(\"Example.txt\")\n",
    "first_line=file_read.readline()\n",
    "print(first_line)\n",
    "file_read.close()"
   ]
  },
  {
   "cell_type": "code",
   "execution_count": 30,
   "id": "bcc4840b",
   "metadata": {},
   "outputs": [
    {
     "name": "stdout",
     "output_type": "stream",
     "text": [
      "Country Name \t Capital city \n",
      "\n",
      " Kenya \t Nairobi \n",
      "\n",
      " Uganda \t Kampala\n",
      "\n",
      " Tanzania \t dar es salaam\n",
      "\n",
      " Zambia \t lusaka\n",
      "\n"
     ]
    }
   ],
   "source": [
    "#read all the lines\n",
    "file_read=open(\"Example.txt\")\n",
    "lines=file_read.readlines()\n",
    "for line in lines:\n",
    "    print(line)\n",
    "file_read.close()"
   ]
  },
  {
   "cell_type": "code",
   "execution_count": 31,
   "id": "4b4015bd",
   "metadata": {},
   "outputs": [
    {
     "name": "stdout",
     "output_type": "stream",
     "text": [
      "Country Name \t Capital city \n",
      " Kenya \t Nairobi \n",
      " Uganda \t Kampala\n",
      " Tanzania \t dar es salaam\n",
      " Zambia \t lusaka\n",
      "\n"
     ]
    }
   ],
   "source": [
    "#using the with() function to read all the content\n",
    "with open(\"Example.txt\") as file_read:\n",
    "    content=file_read.read()\n",
    "    print(content)"
   ]
  },
  {
   "cell_type": "code",
   "execution_count": 32,
   "id": "3bac4183",
   "metadata": {},
   "outputs": [
    {
     "name": "stdout",
     "output_type": "stream",
     "text": [
      "Country Name \t Capital city \n",
      "\n",
      " Kenya \t Nairobi \n",
      "\n",
      " Uganda \t Kampala\n",
      "\n",
      " Tanzania \t dar es salaam\n",
      "\n",
      " Zambia \t lusaka\n",
      "\n"
     ]
    }
   ],
   "source": [
    "#You can also read the file with readlines method and the for loop\n",
    "with open(\"Example.txt\") as file_read:\n",
    "    lines=file_read.readlines()\n",
    "    for line in lines:\n",
    "        print(line)\n"
   ]
  },
  {
   "cell_type": "code",
   "execution_count": 33,
   "id": "bb66a8b9",
   "metadata": {},
   "outputs": [
    {
     "name": "stdout",
     "output_type": "stream",
     "text": [
      "Kenya is in the list\n"
     ]
    }
   ],
   "source": [
    "# Search for a string in a file using the read() and string find () method\n",
    "with open(\"Example.txt\") as file:\n",
    "    content=file.read()\n",
    "    if(\"Kenya\" in content):\n",
    "        print(\"Kenya is in the list\")\n",
    "        \n",
    "    else:\n",
    "        print(\"It seems kenya is missing\")\n"
   ]
  },
  {
   "cell_type": "code",
   "execution_count": null,
   "id": "cdb9e18a",
   "metadata": {},
   "outputs": [],
   "source": [
    "#We can also use the readlines() method as follows\n",
    "with open(\"Example.txt\") as file:\n",
    "    lines=file.readlines()\n",
    "    for line in lines:\n",
    "        if(line.find(\"Kenya\"))!=-1:\n",
    "            print(f\"\")"
   ]
  }
 ],
 "metadata": {
  "kernelspec": {
   "display_name": "Python 3 (ipykernel)",
   "language": "python",
   "name": "python3"
  },
  "language_info": {
   "codemirror_mode": {
    "name": "ipython",
    "version": 3
   },
   "file_extension": ".py",
   "mimetype": "text/x-python",
   "name": "python",
   "nbconvert_exporter": "python",
   "pygments_lexer": "ipython3",
   "version": "3.10.9"
  }
 },
 "nbformat": 4,
 "nbformat_minor": 5
}
