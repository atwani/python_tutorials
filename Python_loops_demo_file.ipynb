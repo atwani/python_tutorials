{
 "cells": [
  {
   "cell_type": "code",
   "execution_count": 1,
   "id": "1f033401",
   "metadata": {},
   "outputs": [
    {
     "name": "stdout",
     "output_type": "stream",
     "text": [
      "Hello There\n",
      "Hello There\n",
      "Hello There\n"
     ]
    }
   ],
   "source": [
    "# Simple for loop that prints Hello there 3 times\n",
    "\n",
    "for i in range(3):\n",
    "    print(\"Hello There\")\n",
    "    "
   ]
  },
  {
   "cell_type": "code",
   "execution_count": 3,
   "id": "8cae72db",
   "metadata": {},
   "outputs": [
    {
     "name": "stdout",
     "output_type": "stream",
     "text": [
      "0\n",
      "1\n",
      "2\n"
     ]
    }
   ],
   "source": [
    "#You can also print the loop variable itself\n",
    "for i in range(3):\n",
    "    print(i)"
   ]
  },
  {
   "cell_type": "code",
   "execution_count": 6,
   "id": "ff069de0",
   "metadata": {},
   "outputs": [
    {
     "name": "stdout",
     "output_type": "stream",
     "text": [
      "0\n",
      "2\n",
      "4\n",
      "6\n",
      "8\n"
     ]
    }
   ],
   "source": [
    "#Using the range function, you can skip a number. For exmple if we want to print numbers \n",
    "#between 1 and 10 but only multiple of 2 we will write\n",
    "\n",
    "for i in range(0,10,2):\n",
    "    print(i)\n"
   ]
  },
  {
   "cell_type": "code",
   "execution_count": 9,
   "id": "4dfcb6ac",
   "metadata": {},
   "outputs": [
    {
     "name": "stdout",
     "output_type": "stream",
     "text": [
      "0\n",
      "1\n",
      "2\n",
      "3\n",
      "5\n",
      "6\n",
      "7\n",
      "8\n",
      "9\n"
     ]
    }
   ],
   "source": [
    "# To return the execution to next statement we can use the continue statement.\n",
    "#The program below will skip printing number 4\n",
    "for i in range(0,10):\n",
    "    if(i==4):\n",
    "        continue\n",
    "    print(i)"
   ]
  },
  {
   "cell_type": "code",
   "execution_count": 10,
   "id": "676fc3a4",
   "metadata": {},
   "outputs": [
    {
     "name": "stdout",
     "output_type": "stream",
     "text": [
      "0\n",
      "1\n",
      "2\n",
      "3\n"
     ]
    }
   ],
   "source": [
    "#You can break the loop before the loop condition fails. In this example we will break the execution when we find number 4\n",
    "for i in range(0,10):\n",
    "    if(i==4):\n",
    "        break\n",
    "    print(i)"
   ]
  },
  {
   "cell_type": "code",
   "execution_count": 11,
   "id": "3af8f739",
   "metadata": {},
   "outputs": [
    {
     "name": "stdout",
     "output_type": "stream",
     "text": [
      "20\n",
      "30\n",
      "50\n",
      "60\n",
      "70\n",
      "80\n",
      "90\n"
     ]
    }
   ],
   "source": [
    "#We can use the for loop, to loop through a list\n",
    "a=[20,30,50,60,70,80,90]\n",
    "#if we want to print the elements of the list we can write\n",
    "for i in a:\n",
    "    print(i)"
   ]
  },
  {
   "cell_type": "code",
   "execution_count": 15,
   "id": "664b896d",
   "metadata": {},
   "outputs": [
    {
     "name": "stdout",
     "output_type": "stream",
     "text": [
      "[40, 60, 100, 120, 140, 160, 180]\n"
     ]
    }
   ],
   "source": [
    "#We can modify the elements in the list as we loop through. For example if we want to multiply by 2 we will write\n",
    "\n",
    "for i in range(len(a)):\n",
    "    a[i]=a[i]*2\n",
    "print(a)"
   ]
  },
  {
   "cell_type": "code",
   "execution_count": 16,
   "id": "c5300058",
   "metadata": {},
   "outputs": [
    {
     "name": "stdout",
     "output_type": "stream",
     "text": [
      "3\n"
     ]
    }
   ],
   "source": [
    "#we can look for an element in a list using the for loop as follows. For example if we are looking for the index of \n",
    "#120 in the above list a we will write\n",
    "\n",
    "for i in range(len(a)):\n",
    "    if(a[i]==120):\n",
    "        print(i)\n"
   ]
  },
  {
   "cell_type": "markdown",
   "id": "97e72e8c",
   "metadata": {},
   "source": [
    "### While Loop"
   ]
  },
  {
   "cell_type": "code",
   "execution_count": 1,
   "id": "f1ed3f66",
   "metadata": {},
   "outputs": [
    {
     "name": "stdout",
     "output_type": "stream",
     "text": [
      "0\n",
      "1\n",
      "2\n",
      "3\n",
      "4\n",
      "5\n"
     ]
    }
   ],
   "source": [
    "#simple while for printing numbers until five\n",
    "i=0 # Initialize the loop variable\n",
    "while(i<=5):\n",
    "    print(i)\n",
    "    i=i+1"
   ]
  },
  {
   "cell_type": "code",
   "execution_count": 4,
   "id": "2754a4fc",
   "metadata": {},
   "outputs": [
    {
     "name": "stdout",
     "output_type": "stream",
     "text": [
      "Enter the number to get the sum34\n",
      "Enter number again45\n",
      "Enter number again45\n",
      "Enter number again0\n",
      "124\n"
     ]
    }
   ],
   "source": [
    "#While loop to print sum of numbers ntered until the user enters zero\n",
    "total=0\n",
    "number=int(input(\"Enter the number to get the sum\"))\n",
    "while(number!=0):\n",
    "    total=total+number\n",
    "    number=int(input(\"Enter number again\"))\n",
    "print(total)"
   ]
  },
  {
   "cell_type": "code",
   "execution_count": 21,
   "id": "63782fb7",
   "metadata": {},
   "outputs": [],
   "source": [
    "#It is easy for a while loop to result to an infinite loop if the condition is always true\n",
    "x=0\n",
    "while(x==0):\n",
    "    print(\"Hello there\")"
   ]
  },
  {
   "cell_type": "code",
   "execution_count": 13,
   "id": "aacf226f",
   "metadata": {},
   "outputs": [
    {
     "name": "stdout",
     "output_type": "stream",
     "text": [
      "Enter the number1\n",
      "1\n",
      "2\n",
      "3\n",
      "Not within the range\n"
     ]
    }
   ],
   "source": [
    "# While loop can have an optional else statement\n",
    "x=int(input(\"Enter the number\"))\n",
    "while(x<4):\n",
    "    print(x)\n",
    "    x=x+1\n",
    "else:\n",
    "    print(\"Not within the range\")"
   ]
  },
  {
   "cell_type": "code",
   "execution_count": 20,
   "id": "b3adb5a1",
   "metadata": {},
   "outputs": [
    {
     "name": "stdout",
     "output_type": "stream",
     "text": [
      "Enter the number1\n",
      "1\n",
      "2\n"
     ]
    }
   ],
   "source": [
    "#If there is a break in the while loop, the else part will not execute\n",
    "x=int(input(\"Enter the number\"))\n",
    "while(x<5):\n",
    "    if(x==3):\n",
    "        break\n",
    "    print(x)\n",
    "    x=x+1\n",
    "    \n",
    "else:\n",
    "    print(\"Out of range\")\n"
   ]
  },
  {
   "cell_type": "code",
   "execution_count": null,
   "id": "3c6dc7d3",
   "metadata": {},
   "outputs": [],
   "source": []
  }
 ],
 "metadata": {
  "kernelspec": {
   "display_name": "Python 3 (ipykernel)",
   "language": "python",
   "name": "python3"
  },
  "language_info": {
   "codemirror_mode": {
    "name": "ipython",
    "version": 3
   },
   "file_extension": ".py",
   "mimetype": "text/x-python",
   "name": "python",
   "nbconvert_exporter": "python",
   "pygments_lexer": "ipython3",
   "version": "3.9.7"
  }
 },
 "nbformat": 4,
 "nbformat_minor": 5
}
