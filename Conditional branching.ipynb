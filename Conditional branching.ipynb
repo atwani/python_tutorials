{
 "cells": [
  {
   "cell_type": "code",
   "execution_count": 1,
   "id": "b25ddf72",
   "metadata": {},
   "outputs": [
    {
     "name": "stdout",
     "output_type": "stream",
     "text": [
      "Enter number34\n",
      "34 is even\n"
     ]
    }
   ],
   "source": [
    "#If statement for checking if a number is even\n",
    "\n",
    "number=int(input(\"Enter number\"))\n",
    "\n",
    "if(number%2==0):\n",
    "    print(f'{number} is even')\n",
    "else:\n",
    "    print(f'{number} is odd')"
   ]
  },
  {
   "cell_type": "code",
   "execution_count": 3,
   "id": "b3e57367",
   "metadata": {},
   "outputs": [
    {
     "name": "stdout",
     "output_type": "stream",
     "text": [
      "Enter number45\n",
      "45 is odd\n"
     ]
    }
   ],
   "source": [
    "#Checking if a number is even and less than 10 using nested if\n",
    "number1=int(input(\"Enter number\"))\n",
    "if(number1%2==0):\n",
    "    if(number1>10):\n",
    "        print(f'{number1} is even and less than 10')\n",
    "    else:\n",
    "        print(f'{number1} is even and greator than 10')\n",
    "else:\n",
    "    print(f'{number1} is odd')"
   ]
  },
  {
   "cell_type": "code",
   "execution_count": 6,
   "id": "f725d8a5",
   "metadata": {},
   "outputs": [
    {
     "name": "stdout",
     "output_type": "stream",
     "text": [
      "Enter time of the dayMorning\n",
      "Good Morning\n"
     ]
    }
   ],
   "source": [
    "#Using if else\n",
    "#Program to display different greating based on the time of the day\n",
    "\n",
    "time_day =input(\"Enter time of the day\")\n",
    "\n",
    "if (time_day==\"Morning\"):\n",
    "    print(\"Good Morning\")\n",
    "elif(time_day==\"Afternoon\"):\n",
    "    print(\"Good afternoon\")\n",
    "elif(time_day==\"Evening\"):\n",
    "    print(\"Good evening\")\n",
    "else:\n",
    "    print(\"Enter a valid time of the day\")"
   ]
  },
  {
   "cell_type": "code",
   "execution_count": null,
   "id": "4fe53417",
   "metadata": {},
   "outputs": [],
   "source": []
  }
 ],
 "metadata": {
  "kernelspec": {
   "display_name": "Python 3 (ipykernel)",
   "language": "python",
   "name": "python3"
  },
  "language_info": {
   "codemirror_mode": {
    "name": "ipython",
    "version": 3
   },
   "file_extension": ".py",
   "mimetype": "text/x-python",
   "name": "python",
   "nbconvert_exporter": "python",
   "pygments_lexer": "ipython3",
   "version": "3.9.7"
  }
 },
 "nbformat": 4,
 "nbformat_minor": 5
}
